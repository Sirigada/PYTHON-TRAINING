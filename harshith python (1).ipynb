{
 "cells": [
  {
   "cell_type": "code",
   "execution_count": 5,
   "metadata": {},
   "outputs": [
    {
     "name": "stdout",
     "output_type": "stream",
     "text": [
      "12245\n",
      "8\n"
     ]
    }
   ],
   "source": [
    "n=int(input())\n",
    "rev,sums=0,0\n",
    "while(n!=0):\n",
    "    rev=int(n%10)\n",
    "    if rev%2==0:\n",
    "        sums+=rev\n",
    "    n=int(n/10)\n",
    "print(sums)\n"
   ]
  },
  {
   "cell_type": "code",
   "execution_count": null,
   "metadata": {},
   "outputs": [],
   "source": [
    "n=int(input())\n",
    "dic={0:'zero',1:'one',2:'two',3:'three',4:'four',5:'five',6:'six',7:'seven',8:'eight',9:'nine'}\n",
    "dic.key()"
   ]
  },
  {
   "cell_type": "code",
   "execution_count": null,
   "metadata": {},
   "outputs": [],
   "source": [
    "mydi={0:'zero',1:'one',2:'two',3:'three',4:'four',5:'five',6:'six',7:'seven',8:'eight',9:'nine'}\n",
    "for key in mydi:\n",
    "   print \"key: %s , value: %s\" % (key, mydi[key])"
   ]
  },
  {
   "cell_type": "code",
   "execution_count": 1,
   "metadata": {},
   "outputs": [
    {
     "name": "stdout",
     "output_type": "stream",
     "text": [
      "number is less than 30\n"
     ]
    }
   ],
   "source": [
    "x=30\n",
    "if(x<=30):\n",
    "    print(\"number is less than 30\")\n",
    "else:\n",
    "    print(\"number is greater than 30\")"
   ]
  },
  {
   "cell_type": "code",
   "execution_count": 2,
   "metadata": {},
   "outputs": [
    {
     "name": "stdout",
     "output_type": "stream",
     "text": [
      "x is greater than y\n"
     ]
    }
   ],
   "source": [
    "x=70\n",
    "y=60\n",
    "if(x<=y):\n",
    "    print(\"x is less than y\")\n",
    "else:\n",
    "    print(\"x is greater than y\")    "
   ]
  },
  {
   "cell_type": "code",
   "execution_count": 5,
   "metadata": {},
   "outputs": [
    {
     "name": "stdout",
     "output_type": "stream",
     "text": [
      "20\n"
     ]
    }
   ],
   "source": [
    "x=10\n",
    "y=2\n",
    "if(x==y):\n",
    "    print(x**2)\n",
    "else:\n",
    "        print(x*y)"
   ]
  },
  {
   "cell_type": "code",
   "execution_count": 6,
   "metadata": {},
   "outputs": [
    {
     "name": "stdout",
     "output_type": "stream",
     "text": [
      "x is less than 0\n"
     ]
    }
   ],
   "source": [
    "x=-20\n",
    "if(x==0):\n",
    "    print(\"x is equal to 0\")\n",
    "elif(x<0):\n",
    "    print(\"x is less than 0\")\n",
    "else:\n",
    "    print(\"x is greater than 0\")\n",
    "    "
   ]
  },
  {
   "cell_type": "code",
   "execution_count": 7,
   "metadata": {},
   "outputs": [
    {
     "name": "stdout",
     "output_type": "stream",
     "text": [
      "0\n",
      "1\n",
      "2\n",
      "3\n",
      "4\n",
      "5\n",
      "6\n",
      "7\n",
      "8\n",
      "9\n",
      "10\n",
      "11\n",
      "12\n",
      "13\n",
      "14\n",
      "15\n",
      "16\n",
      "17\n",
      "18\n",
      "19\n",
      "20\n"
     ]
    }
   ],
   "source": [
    "n=0\n",
    "while(n<=20):\n",
    "    print(n)\n",
    "    n=n+1\n",
    "   "
   ]
  },
  {
   "cell_type": "code",
   "execution_count": 8,
   "metadata": {},
   "outputs": [
    {
     "name": "stdout",
     "output_type": "stream",
     "text": [
      "-20\n",
      "-21\n",
      "-22\n",
      "-23\n",
      "-24\n",
      "-25\n",
      "-26\n",
      "-27\n",
      "-28\n",
      "-29\n",
      "-30\n",
      "-31\n",
      "-32\n",
      "-33\n",
      "-34\n",
      "-35\n",
      "-36\n",
      "-37\n",
      "-38\n",
      "-39\n",
      "-40\n"
     ]
    }
   ],
   "source": [
    "n=-20\n",
    "while(n>=-40):\n",
    "    print(n)\n",
    "    n=n-1"
   ]
  },
  {
   "cell_type": "code",
   "execution_count": 1,
   "metadata": {},
   "outputs": [
    {
     "name": "stdout",
     "output_type": "stream",
     "text": [
      "application\n",
      "str[0] =  a\n",
      "str[-1] =  n\n",
      "str[-5] =  a\n",
      "str[1:5] =  ppli\n",
      "str[0:3] =  app\n",
      "str[:5] =  appli\n",
      "str[1:-4] =  pplica\n",
      "str[1:4] =  ppl\n",
      "str[::-1] =  noitacilppa\n"
     ]
    }
   ],
   "source": [
    "str =\"application\"\n",
    "print(str)\n",
    "print(\"str[0] = \",str[0])\n",
    "print(\"str[-1] = \",str[-1])\n",
    "print(\"str[-5] = \",str[-5])\n",
    "print(\"str[1:5] = \",str[1:5])\n",
    "print(\"str[0:3] = \",str[0:3])\n",
    "print(\"str[:5] = \",str[:5])\n",
    "print(\"str[1:-4] = \",str[1:-4])\n",
    "print(\"str[1:4] = \",str[1:4])\n",
    "print(\"str[::-1] = \",str[::-1])\n",
    "\n"
   ]
  },
  {
   "cell_type": "code",
   "execution_count": 2,
   "metadata": {},
   "outputs": [
    {
     "name": "stdout",
     "output_type": "stream",
     "text": [
      "application\n",
      "application\n",
      " application test\n",
      "      working\n",
      "      completed\n",
      "      list\n",
      "      string\n",
      "      phyton \n"
     ]
    }
   ],
   "source": [
    "\n",
    "str =\"application\"\n",
    "print(str)\n",
    "\n",
    "str1='application'\n",
    "print(str1)\n",
    "\n",
    "str2=\"\"\" application test\n",
    "      working\n",
    "      completed\n",
    "      list\n",
    "      string\n",
    "      phyton \"\"\"\n",
    "print(str2)\n",
    "\n"
   ]
  },
  {
   "cell_type": "code",
   "execution_count": 3,
   "metadata": {},
   "outputs": [
    {
     "name": "stdout",
     "output_type": "stream",
     "text": [
      "3 7 9 37 67 76 "
     ]
    }
   ],
   "source": [
    "def sortingnum(a):\n",
    "    for i in range(len(a)-1):\n",
    "        for j in range(len(a)-1):\n",
    "            if a[j] > a[j+1]:\n",
    "                a[j],a[j+1] = a[j+1],a[j]\n",
    "\n",
    "    for i in range(len(a)):\n",
    "        print(a[i],end=\" \")\n",
    "list1=[76,67,7,37,3,9]\n",
    "sortingnum(list1)\n",
    "\n"
   ]
  },
  {
   "cell_type": "code",
   "execution_count": 4,
   "metadata": {},
   "outputs": [
    {
     "name": "stdout",
     "output_type": "stream",
     "text": [
      "item is found\n"
     ]
    }
   ],
   "source": [
    "\n",
    "def binarysearch(a,findex,rindex,taritem):\n",
    "    while findex <= rindex:\n",
    "        mindex= findex+(rindex-findex)//2\n",
    "        if a[mindex] == taritem:\n",
    "            return mindex\n",
    "        if a[mindex]>taritem:\n",
    "            rindex = mindex-1\n",
    "        else:\n",
    "            findex=mindex+1\n",
    "    return -1\n",
    "list1=[1,23,4,6,78,5,8]\n",
    "res=binarysearch(list1,0,6,8)\n",
    "if res!= -1:\n",
    "    print(\"item is found\")\n",
    "else:\n",
    "    print(\"item not found\")\n",
    "\n"
   ]
  },
  {
   "cell_type": "code",
   "execution_count": 5,
   "metadata": {},
   "outputs": [
    {
     "name": "stdout",
     "output_type": "stream",
     "text": [
      "3 5 8 7 "
     ]
    }
   ],
   "source": [
    "def linerexample4(a):\n",
    "     for i in range(len(a)):\n",
    "            if i==0 or i==(len(a)-1):\n",
    "                print(a[i],end= \" \")\n",
    "            elif a[i-1]%2==0 and a[i+1]%2==0:\n",
    "                print(a[i],end= \" \")\n",
    "               \n",
    "                     \n",
    "a=[3,44,5,66,8,10,7]\n",
    "linerexample4(a)\n",
    "\n"
   ]
  },
  {
   "cell_type": "code",
   "execution_count": 6,
   "metadata": {},
   "outputs": [
    {
     "name": "stdout",
     "output_type": "stream",
     "text": [
      "3 44 66 8 10 7 "
     ]
    }
   ],
   "source": [
    "\n",
    "def linerexample4(a):\n",
    "     for i in range(len(a)):\n",
    "            if i==0 or i==(len(a)-1):\n",
    "                print(a[i],end= \" \")\n",
    "            else:\n",
    "                if(a[i]%2==0):\n",
    "                     print(a[i],end= \" \")\n",
    "a=[3,44,5,66,8,10,7]\n",
    "linerexample4(a)\n"
   ]
  },
  {
   "cell_type": "code",
   "execution_count": 7,
   "metadata": {},
   "outputs": [
    {
     "name": "stdout",
     "output_type": "stream",
     "text": [
      "1 4 15 24 35 7 "
     ]
    }
   ],
   "source": [
    "def linerexample3(a):\n",
    "     for i in range(len(a)):\n",
    "            if i==0 or i==(len(a)-1):\n",
    "                print(a[i],end= \" \")\n",
    "            else:\n",
    "                print(a[i-1]*a[i+1],end= \" \")\n",
    "a=[1,3,4,5,6,7]\n",
    "linerexample3(a) \n",
    "\n"
   ]
  },
  {
   "cell_type": "code",
   "execution_count": 8,
   "metadata": {},
   "outputs": [
    {
     "name": "stdout",
     "output_type": "stream",
     "text": [
      "6346None\n"
     ]
    }
   ],
   "source": [
    "def printdigital(str):\n",
    "    lst= list(str)\n",
    "    for x in range(len(lst)):\n",
    "        if ord(lst[x])>=48 and ord(lst[x])<=57:\n",
    "            print(lst[x],end =\"\")\n",
    "            \n",
    "    return\n",
    "print(printdigital(\"gfjegy6346\"))\n",
    "\n"
   ]
  },
  {
   "cell_type": "code",
   "execution_count": 9,
   "metadata": {},
   "outputs": [
    {
     "data": {
      "text/plain": [
       "12"
      ]
     },
     "execution_count": 9,
     "metadata": {},
     "output_type": "execute_result"
    }
   ],
   "source": [
    "\n",
    "\n",
    "def sumofdigits(str):\n",
    "    sum=0\n",
    "    lst=list(str)\n",
    "    for x in range(len(lst)):\n",
    "         if ord(lst[x])>=48 and ord(lst[x])<=57:\n",
    "                sum=sum+ord(lst[x])-48\n",
    "              \n",
    "    return sum\n",
    "sumofdigits(\"gefuyjwefh345\")"
   ]
  },
  {
   "cell_type": "code",
   "execution_count": 10,
   "metadata": {},
   "outputs": [
    {
     "data": {
      "text/plain": [
       "10"
      ]
     },
     "execution_count": 10,
     "metadata": {},
     "output_type": "execute_result"
    }
   ],
   "source": [
    "def sumofdigitseven(str):\n",
    "    sum=0\n",
    "    lst=list(str)\n",
    "    for x in range(len(lst)):\n",
    "        if ord(lst[x])>=48 and ord(lst[x])<=57:\n",
    "            if((ord(lst[x])-48)%2==0):\n",
    "                sum=sum+ord(lst[x])-48\n",
    "    return sum\n",
    "sumofdigitseven(\"sdrtge4657\")\n"
   ]
  },
  {
   "cell_type": "code",
   "execution_count": null,
   "metadata": {},
   "outputs": [],
   "source": []
  }
 ],
 "metadata": {
  "kernelspec": {
   "display_name": "Python 3",
   "language": "python",
   "name": "python3"
  },
  "language_info": {
   "codemirror_mode": {
    "name": "ipython",
    "version": 3
   },
   "file_extension": ".py",
   "mimetype": "text/x-python",
   "name": "python",
   "nbconvert_exporter": "python",
   "pygments_lexer": "ipython3",
   "version": "3.7.3"
  }
 },
 "nbformat": 4,
 "nbformat_minor": 2
}
